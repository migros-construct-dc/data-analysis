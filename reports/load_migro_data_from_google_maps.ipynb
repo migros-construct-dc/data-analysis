{
 "cells": [
  {
   "cell_type": "markdown",
   "id": "d84d0d75",
   "metadata": {},
   "source": [
    "Load the key from the credentials.yml file"
   ]
  },
  {
   "cell_type": "code",
   "execution_count": 8,
   "id": "0c30ec4d",
   "metadata": {},
   "outputs": [
    {
     "data": {
      "text/plain": [
       "dict"
      ]
     },
     "execution_count": 8,
     "metadata": {},
     "output_type": "execute_result"
    }
   ],
   "source": [
    "import yaml\n",
    "import requests\n",
    "   \n",
    "# get the key from .yaml file\n",
    "key_dict = yaml.load(open(\"credentials.yml\"), Loader=yaml.FullLoader)\n",
    "gmaps_api_key = key_dict[\"key\"] \n",
    "\n",
    "# actual api key\n",
    "api_key = gmaps_api_key\n",
    "\n",
    "base_url = \"https://maps.googleapis.com/maps/api/place/textsearch/json?\"\n",
    "query = \"Migros in Switzerland\"\n",
    "final_url = f\"{base_url}query={query}&key={api_key}\"\n",
    "\n",
    "response = requests.get(final_url)\n",
    "results = response.json()\n",
    "\n",
    "type(results)"
   ]
  },
  {
   "cell_type": "code",
   "execution_count": null,
   "id": "54461ea8",
   "metadata": {},
   "outputs": [],
   "source": [
    "import pandas as pd\n",
    "\n",
    "# Specify the filename and path where you want to save the CSV file\n",
    "filename = 'migros_stores.csv'\n",
    "\n",
    "# Save the DataFrame to a CSV file\n",
    "df.to_csv(filename, index=False)"
   ]
  }
 ],
 "metadata": {
  "kernelspec": {
   "display_name": "VIZ",
   "language": "python",
   "name": "viz"
  },
  "language_info": {
   "codemirror_mode": {
    "name": "ipython",
    "version": 3
   },
   "file_extension": ".py",
   "mimetype": "text/x-python",
   "name": "python",
   "nbconvert_exporter": "python",
   "pygments_lexer": "ipython3",
   "version": "3.10.13"
  }
 },
 "nbformat": 4,
 "nbformat_minor": 5
}
