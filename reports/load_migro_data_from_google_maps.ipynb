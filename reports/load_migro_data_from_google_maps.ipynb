{
 "cells": [
  {
   "cell_type": "markdown",
   "id": "d84d0d75",
   "metadata": {},
   "source": [
    "Load the key from the credentials.yml file"
   ]
  },
  {
   "cell_type": "code",
   "execution_count": 5,
   "id": "0c30ec4d",
   "metadata": {},
   "outputs": [
    {
     "name": "stdout",
     "output_type": "stream",
     "text": [
      "Name: Migros, Address: Löwenstrasse 31-35 2. und 3. OG, 8001 Zürich, Switzerland\n",
      "Name: Migros Supermarket Zürich Stadelhofen, Address: Falkenstrasse 19 - 21, 8001 Zürich, Switzerland\n",
      "Name: Migros-Supermarkt - Ebikon - Mall of Switzerland, Address: Ebisquare Str. 1, 6030 Ebikon, Switzerland\n",
      "Name: MIGROS, Address: Flughofstrasse 3, 8058 Kloten, Switzerland\n",
      "Name: Migros-Supermarkt - Zürich - Affoltern, Address: Jonas-Furrer-Strasse 21, 8046 Zürich, Switzerland\n",
      "Name: Migros-Supermarkt - Zürich - HB Sihlquai, Address: Sihlpassage, 8004 Zürich, Switzerland\n",
      "Name: Migros, Address: Rugenparkstrasse 1, 3800 Interlaken, Switzerland\n",
      "Name: Migros-Supermarkt - Zürich - Rigiplatz, Address: Winterthurerstrasse 2/4, 8006 Zürich, Switzerland\n",
      "Name: Migros-Supermarkt - Zürich - Hauptbahnhof, Address: Hauptbahnhof, 8001 Zürich, Switzerland\n",
      "Name: Migros-Supermarkt - Zürich - Kreuzplatz, Address: Kreuzpl. 20, 8008 Zürich, Switzerland\n",
      "Name: Migros-Supermarkt - Luzern - Schweizerhof, Address: Hertensteinstrasse 9, 6004 Luzern, Switzerland\n",
      "Name: Migros-Supermarkt - Luzern - Waldstätter, Address: Winkelriedstrasse 58, 6003 Luzern, Switzerland\n",
      "Name: Migros, Address: Tessinerpl. 10, 8002 Zürich, Switzerland\n",
      "Name: Migros-Supermarkt - Bern - Christoffel, Address: Christoffelunterführung, 3011 Bern, Switzerland\n",
      "Name: MIGROS, Address: Centralbahnstrasse 10, 4051 Basel, Switzerland\n",
      "Name: Migros-Supermarkt - Luzern - Würzenbachstrasse, Address: Würzenbachstrasse 19, 6006 Luzern, Switzerland\n",
      "Name: Migros-Supermarkt - Zürich - Schaffhauserplatz, Address: Schaffhauserstrasse 75, 8057 Zürich, Switzerland\n",
      "Name: Migros-Supermarkt - Bern - Marktgasse, Address: Marktgasse 46, 3011 Bern, Switzerland\n",
      "Name: Migros-Supermarkt - Luzern - Bahnhof, Address: Zentralstrasse 1, 6003 Luzern, Switzerland\n",
      "Name: Migros-Supermarkt - Zürich - Oerlikon Neumarkt, Address: Einkaufszentrum Neumarkt, Hofwiesenstrasse 350, 8050 Zürich, Switzerland\n"
     ]
    }
   ],
   "source": [
    "import yaml\n",
    "import requests\n",
    "   \n",
    "# get the key from .yaml file\n",
    "key_dict = yaml.load(open(\"credentials.yml\"), Loader=yaml.FullLoader)\n",
    "gmaps_api_key = key_dict[\"key\"] \n",
    "\n",
    "# actual api key\n",
    "api_key = gmaps_api_key\n",
    "\n",
    "base_url = \"https://maps.googleapis.com/maps/api/place/textsearch/json?\"\n",
    "query = \"Migros in Switzerland\"\n",
    "final_url = f\"{base_url}query={query}&key={api_key}\"\n",
    "\n",
    "response = requests.get(final_url)\n",
    "results = response.json()\n",
    "\n",
    "# Process the results\n",
    "for place in results['results']:\n",
    "    name = place.get('name')\n",
    "    address = place.get('formatted_address')\n",
    "    print(f\"Name: {name}, Address: {address}\")"
   ]
  },
  {
   "cell_type": "code",
   "execution_count": null,
   "id": "54461ea8",
   "metadata": {},
   "outputs": [],
   "source": []
  }
 ],
 "metadata": {
  "kernelspec": {
   "display_name": "VIZ",
   "language": "python",
   "name": "viz"
  },
  "language_info": {
   "codemirror_mode": {
    "name": "ipython",
    "version": 3
   },
   "file_extension": ".py",
   "mimetype": "text/x-python",
   "name": "python",
   "nbconvert_exporter": "python",
   "pygments_lexer": "ipython3",
   "version": "3.10.13"
  }
 },
 "nbformat": 4,
 "nbformat_minor": 5
}
