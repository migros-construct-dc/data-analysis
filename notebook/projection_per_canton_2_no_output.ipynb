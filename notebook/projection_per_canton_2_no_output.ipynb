{
 "cells": [
  {
   "cell_type": "code",
   "execution_count": null,
   "metadata": {},
   "outputs": [],
   "source": [
    "import plotly.graph_objects as go\n",
    "import plotly.express as px\n",
    "import plotly.io as pio\n",
    "#pio.renderers.default = 'colab'   # try changing this in case your plots aren't shown\n",
    "import pandas as pd\n",
    "import geopandas as gpd\n",
    "import json"
   ]
  },
  {
   "cell_type": "code",
   "execution_count": null,
   "metadata": {},
   "outputs": [],
   "source": [
    "df_base = pd.read_csv('projection_per_kanton_2050_base_2.csv')\n",
    "df_base.head()"
   ]
  },
  {
   "cell_type": "code",
   "execution_count": null,
   "metadata": {},
   "outputs": [],
   "source": [
    "df_base = df_base.melt(id_vars=['kan_code', 'kan_name', 'kan_name_short', 'kan_name_stat'], var_name='year', value_name='population')\n",
    "df_base.head()"
   ]
  },
  {
   "cell_type": "code",
   "execution_count": null,
   "metadata": {},
   "outputs": [],
   "source": [
    "for kan_name in df_base['kan_name'].unique():\n",
    "    population_2020 = df_base[(df_base['kan_name'] == kan_name) & (df_base['year'] == '2020')]['population'].values[0]\n",
    "    df_base.loc[df_base['kan_name'] == kan_name, 'relative_population'] = round((df_base[df_base['kan_name'] == kan_name]['population'] - population_2020) / population_2020 * 100,1)\n",
    "\n",
    "df_base.tail(26)"
   ]
  },
  {
   "cell_type": "code",
   "execution_count": null,
   "metadata": {},
   "outputs": [],
   "source": [
    "import json\n",
    "with open('georef-switzerland-kanton.geojson') as f:\n",
    "    swiss_canton_json = json.load(f)"
   ]
  },
  {
   "cell_type": "code",
   "execution_count": null,
   "metadata": {},
   "outputs": [],
   "source": [
    "fig = px.choropleth_mapbox(df_base[df_base['year']=='2050'], geojson=swiss_canton_json,locations='kan_name',featureidkey='properties.kan_name', \n",
    "                           color='relative_population', color_continuous_scale=\"Viridis\",\n",
    "                           range_color=(-10, 35),mapbox_style=\"carto-positron\",zoom=6.5, \n",
    "                           center = {\"lat\": 46.8182, \"lon\": 8.2275},opacity=0.5,\n",
    "                           labels={'relative_population':'Relative Population Growth'} \n",
    "                           ) \n",
    "fig.update_layout(margin={\"r\":0,\"t\":0,\"l\":0,\"b\":0}) \n",
    "fig.show()"
   ]
  },
  {
   "cell_type": "code",
   "execution_count": null,
   "metadata": {},
   "outputs": [],
   "source": [
    "fig = px.choropleth_mapbox(df_base, geojson=swiss_canton_json,locations='kan_name',featureidkey='properties.kan_name', \n",
    "                           color='relative_population', color_continuous_scale=\"Viridis\",\n",
    "                           range_color=(-10, 35),mapbox_style=\"carto-positron\",zoom=6.5, \n",
    "                           center = {\"lat\": 46.8182, \"lon\": 8.2275},opacity=0.5,\n",
    "                           labels={'relative_population':'Relative Population Growth'} \n",
    "                           ) \n",
    "fig.update_layout(margin={\"r\":0,\"t\":0,\"l\":0,\"b\":0}) \n",
    "fig.show()"
   ]
  },
  {
   "cell_type": "code",
   "execution_count": null,
   "metadata": {},
   "outputs": [],
   "source": [
    "# plot df_base with choropleth_mapbox for all the years with a slider for the year\n",
    "\n",
    "fig = px.choropleth_mapbox(df_base, geojson=swiss_canton_json,locations='kan_name',featureidkey='properties.kan_name',\n",
    "                            color='relative_population', color_continuous_scale=\"Viridis\",\n",
    "                            range_color=(-10, 35),mapbox_style=\"carto-positron\",zoom=6.5,\n",
    "                            center = {\"lat\": 46.8182, \"lon\": 8.2275},opacity=0.5,\n",
    "                            labels={'relative_population':'Relative Population Growth'},\n",
    "                            animation_frame='year'\n",
    "                            )\n",
    "fig.update_layout(\n",
    "    title_text=\"Swiss Canton Relative population growth 2020-2050\",\n",
    "    margin={\"r\":0,\"t\":30,\"l\":0,\"b\":0}  # Adjust margin to make space for the title\n",
    ")\n",
    "\n",
    "# add title  \n",
    "\n",
    "\n",
    "fig.show()\n"
   ]
  },
  {
   "cell_type": "code",
   "execution_count": null,
   "metadata": {},
   "outputs": [],
   "source": [
    "# add a title to the plot\n"
   ]
  }
 ],
 "metadata": {
  "kernelspec": {
   "display_name": "ds_toolkit",
   "language": "python",
   "name": "python3"
  },
  "language_info": {
   "codemirror_mode": {
    "name": "ipython",
    "version": 3
   },
   "file_extension": ".py",
   "mimetype": "text/x-python",
   "name": "python",
   "nbconvert_exporter": "python",
   "pygments_lexer": "ipython3",
   "version": "3.10.13"
  }
 },
 "nbformat": 4,
 "nbformat_minor": 2
}
