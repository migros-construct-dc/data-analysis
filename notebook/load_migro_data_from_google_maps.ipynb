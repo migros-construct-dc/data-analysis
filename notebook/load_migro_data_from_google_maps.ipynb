{
 "cells": [
  {
   "cell_type": "markdown",
   "id": "d84d0d75",
   "metadata": {},
   "source": [
    "Load the key from the credentials.yml file"
   ]
  },
  {
   "cell_type": "code",
   "execution_count": 1,
   "id": "0c30ec4d",
   "metadata": {
    "scrolled": true,
    "ExecuteTime": {
     "end_time": "2024-02-29T13:31:30.381429Z",
     "start_time": "2024-02-29T13:31:29.728985Z"
    }
   },
   "outputs": [],
   "source": [
    "import yaml\n",
    "import requests\n",
    "import json\n",
    "   \n",
    "# get the key from .yaml file\n",
    "key_dict = yaml.load(open(\"credentials.yml\"), Loader=yaml.FullLoader)\n",
    "gmaps_api_key = key_dict[\"key\"] \n",
    "\n",
    "# actual api key\n",
    "api_key = gmaps_api_key\n",
    "\n",
    "base_url = \"https://maps.googleapis.com/maps/api/place/textsearch/json?\"\n",
    "query = \"Migros in Switzerland\"\n",
    "final_url = f\"{base_url}query={query}&key={api_key}\"\n",
    "\n",
    "response = requests.get(final_url)\n",
    "results = response.json()\n",
    "# \n",
    "# with open('migros-stores.json', 'w') as output:\n",
    "#     json.dump(results, output)"
   ]
  },
  {
   "cell_type": "code",
   "execution_count": 12,
   "id": "54461ea8",
   "metadata": {},
   "outputs": [],
   "source": [
    "\n"
   ]
  },
  {
   "cell_type": "code",
   "execution_count": null,
   "id": "7fadf5c2-e84f-4148-8528-7bae827a7757",
   "metadata": {},
   "outputs": [],
   "source": []
  }
 ],
 "metadata": {
  "kernelspec": {
   "display_name": "VIZ",
   "language": "python",
   "name": "viz"
  },
  "language_info": {
   "codemirror_mode": {
    "name": "ipython",
    "version": 3
   },
   "file_extension": ".py",
   "mimetype": "text/x-python",
   "name": "python",
   "nbconvert_exporter": "python",
   "pygments_lexer": "ipython3",
   "version": "3.10.13"
  }
 },
 "nbformat": 4,
 "nbformat_minor": 5
}
